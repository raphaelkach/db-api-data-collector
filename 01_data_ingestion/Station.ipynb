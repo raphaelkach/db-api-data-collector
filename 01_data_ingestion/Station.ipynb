{
 "cells": [
  {
   "cell_type": "code",
   "execution_count": 1,
   "metadata": {},
   "outputs": [],
   "source": [
    "# Importieren der benötigten Bibliotheken\n",
    "import pandas as pd\n",
    "import requests"
   ]
  },
  {
   "cell_type": "code",
   "execution_count": 2,
   "metadata": {},
   "outputs": [],
   "source": [
    "# Von Opendata VVS die Haltestellen abrufen\n",
    "df_vss = pd.read_csv(\"../../01_data/01_raw/vvs_haltestelle_j24.csv\", encoding='ISO-8859-1', sep=\";\")"
   ]
  },
  {
   "cell_type": "code",
   "execution_count": 3,
   "metadata": {},
   "outputs": [],
   "source": [
    "# Auf die S-Bahn Haltestellen beschränken\n",
    "df_vss_s_bahn = df_vss[df_vss['Verkehrsmittel'].str.contains('S-Bahn')]\n",
    "df_vss_s_bahn = df_vss_s_bahn.rename(columns={'#Name': 'name'})"
   ]
  },
  {
   "cell_type": "code",
   "execution_count": 4,
   "metadata": {},
   "outputs": [],
   "source": [
    "name_mapping = {\n",
    "    'Nürnberger Straße': 'Stuttgart Nürnberger Straße',\n",
    "    'Sommerrain': 'Stuttgart-Sommerrain',\n",
    "    'Malmsheim': 'Malmsheim',\n",
    "    'Rutesheim': 'Rutesheim',\n",
    "    'Weil der Stadt': 'Weil der Stadt',\n",
    "    'Bietigheim': 'Bietigheim-Bissingen',\n",
    "    'Kornwestheim': 'Kornwestheim Pbf',\n",
    "    'Neuwirtsh. (Porschep.)': 'Neuwirtshaus (Porscheplatz)',\n",
    "    'Benningen (N)': 'Benningen (Neckar)',\n",
    "    'Freiberg (N)': 'Freiberg (Neckar)',\n",
    "    'Nellmersbach': 'Nellmersbach',\n",
    "    'Neustadt-Hohenacker': 'Neustadt-Hohenacker',\n",
    "    'Schwaikheim': 'Schwaikheim',\n",
    "    'Stetten-Beinstein': 'Stetten-Beinstein',\n",
    "    'Geradstetten': 'Geradstetten',\n",
    "    'Grunbach': 'Grunbach',\n",
    "    'Weiler (R)': 'Weiler (Rems)',\n",
    "    'Winterbach': 'Winterbach (b Schorndorf)',\n",
    "    'Altbach': 'Altbach',\n",
    "    'Mettingen': 'Esslingen-Mettingen',\n",
    "    'Oberesslingen': 'Oberesslingen',\n",
    "    'Zell': 'Esslingen-Zell',\n",
    "    'Filderstadt': 'Filderstadt',\n",
    "    'Flughafen/Messe': 'Stuttgart Flughafen/Messe',\n",
    "    'Oberaichen': 'Oberaichen',\n",
    "    'Weilimdorf Bf': 'Stuttgart-Weilimdorf',\n",
    "    'Süd': 'Renningen Süd',\n",
    "    'Magstadt': 'Magstadt',\n",
    "    'Nord': 'Maichingen Nord',\n",
    "    'Maichingen': 'Maichingen',\n",
    "    'Sindelfingen': 'Sindelfingen',\n",
    "    'Goldberg': 'Goldberg',\n",
    "    'Erdmannhausen': 'Erdmannhausen',\n",
    "    'Beutelsbach': 'Beutelsbach',\n",
    "    'Kirchheim (T)': 'Kirchheim (Teck)',\n",
    "    'Wernau (N)': 'Wernau (Neckar)',\n",
    "    'Wendlingen (N)': 'Wendlingen (Neckar)',\n",
    "    'Ötlingen': 'Kirchheim (Teck)-Ötlingen',\n",
    "    'Herrenberg': 'Herrenberg',\n",
    "    'Böblingen': 'Böblingen',\n",
    "    'Höfingen': 'Höfingen',\n",
    "    'Leinfelden': 'Leinfelden',\n",
    "    'Ehningen': 'Ehningen (b Böblingen)',\n",
    "    'Gärtringen': 'Gärtringen',\n",
    "    'Nufringen': 'Nufringen',\n",
    "    'Rohr': 'Stuttgart-Rohr',\n",
    "    'Vaihingen': 'Stuttgart-Vaihingen',\n",
    "    'Universität': 'Stuttgart Universität',\n",
    "    'Österfeld': 'Stuttgart Österfeld',\n",
    "    'Schwabstraße': 'Stuttgart Schwabstraße',\n",
    "    'Stadtmitte': 'Stuttgart Stadtmitte',\n",
    "    'Neckarpark': 'Stuttgart Neckarpark',\n",
    "    'Untertürkheim': 'Stuttgart-Untertürkheim Pbf',\n",
    "    'Obertürkheim': 'Stuttgart-Obertürkheim',\n",
    "    'Hauptbahnhof (oben)': 'Stuttgart Hbf',\n",
    "    'Hauptbahnhof (tief)': 'Stuttgart Hbf (tief)',\n",
    "    'Feuerbach': 'Stuttgart-Feuerbach',\n",
    "    'Feuersee': 'Stuttgart Feuersee',\n",
    "    'Nordbahnhof': 'Stuttgart Nord',\n",
    "    'Bad Cannstatt': 'Stuttgart-Bad Cannstatt',\n",
    "    'Zuffenhausen': 'Stuttgart-Zuffenhausen',\n",
    "    'Fellbach': 'Fellbach',\n",
    "    'Ditzingen': 'Ditzingen',\n",
    "    'Echterdingen': 'Echterdingen',\n",
    "    'Hulb': 'Hulb',\n",
    "    'Leonberg': 'Leonberg',\n",
    "    'Renningen': 'Renningen',\n",
    "    'Asperg': 'Asperg',\n",
    "    'Ludwigsburg': 'Ludwigsburg',\n",
    "    'Favoritepark': 'Favoritepark',\n",
    "    'Tamm': 'Tamm (Württ)',\n",
    "    'Burgstall (M)': 'Burgstall (Murr)',\n",
    "    'Kirchberg (M)': 'Kirchberg (Murr)',\n",
    "    'Marbach (N)': 'Marbach (Neckar)',\n",
    "    'Backnang': 'Backnang',\n",
    "    'Maubach': 'Maubach',\n",
    "    'Korntal': 'Korntal',\n",
    "    'Waiblingen': 'Waiblingen',\n",
    "    'Winnenden': 'Winnenden',\n",
    "    'Rommelshausen': 'Rommelshausen',\n",
    "    'Schorndorf': 'Schorndorf',\n",
    "    'Endersbach': 'Endersbach',\n",
    "    'Esslingen (N)': 'Esslingen (Neckar)',\n",
    "    'Plochingen': 'Plochingen'\n",
    "}\n",
    "\n",
    "df_vss_s_bahn['name'] = df_vss_s_bahn['name'].map(name_mapping)\n",
    "\n",
    "df_vss_s_bahn.to_csv(\"../../01_data/02_intermediate/vvs_s_bahn.csv\", index=False)"
   ]
  },
  {
   "cell_type": "code",
   "execution_count": 5,
   "metadata": {},
   "outputs": [],
   "source": [
    "# Station Daten von der DB API abrufen\n",
    "url = \"https://apis.deutschebahn.com/db-api-marketplace/apis/station-data/v2/stations\"\n",
    "\n",
    "headers = {\n",
    "    \"DB-Client-ID\": \"8818fc1cad6ea1a87f4d399146f6488d\",\n",
    "    \"DB-Api-Key\": \"12ecba5ccbd86f53b8de3a3818d98021\",\n",
    "    \"accept\": \"application/json\"\n",
    "}\n",
    "\n",
    "response = requests.get(url, headers=headers)\n",
    "\n",
    "data = response.json()\n",
    "data = data[\"result\"]\n",
    "stations_list = []"
   ]
  },
  {
   "cell_type": "code",
   "execution_count": 6,
   "metadata": {},
   "outputs": [],
   "source": [
    "# Daten aus der API aus dem JSON-Format auslesen und in eine Liste speichern\n",
    "for i in range(len(data)):\n",
    "    try:\n",
    "        name =  data[i][\"name\"]\n",
    "        city = data[i][\"mailingAddress\"][\"city\"]\n",
    "        zipcode = data[i][\"mailingAddress\"][\"zipcode\"]\n",
    "        street = data[i][\"mailingAddress\"][\"street\"]\n",
    "        state =  data[i][\"federalState\"]\n",
    "        category = data[i][\"category\"]\n",
    "        parking = data[i][\"hasParking\"]\n",
    "        bicycle = data[i][\"hasBicycleParking\"]\n",
    "        taxis = data[i][\"hasTaxiRank\"]\n",
    "        stepless = data[i][\"hasSteplessAccess\"]\n",
    "        car_rental = data[i][\"hasCarRental\"]\n",
    "        evaNumbers = data[i][\"evaNumbers\"][0][\"number\"]\n",
    "        long = data[i][\"evaNumbers\"][0][\"geographicCoordinates\"][\"coordinates\"][0]\n",
    "        lat = data[i][\"evaNumbers\"][0][\"geographicCoordinates\"][\"coordinates\"][1]\n",
    "    except:\n",
    "        continue\n",
    "    \n",
    "    item = {\n",
    "        \"eva_nr\" : evaNumbers,\n",
    "        \"name\" : name, \n",
    "        \"category\": category, \n",
    "        \"state\" : state, \n",
    "        \"city\" : city, \n",
    "        \"zipcode\" : zipcode, \n",
    "        \"street\" : street,\n",
    "        \"parking\" : parking,\n",
    "        \"bicycle\" : bicycle,\n",
    "        \"taxis\" : taxis,\n",
    "        \"stepless\" : stepless,\n",
    "        \"car_rental\" : car_rental, \n",
    "        \"long\" : long,\n",
    "        \"lat\" : lat,\n",
    "        }\n",
    "    stations_list.append(item)\n",
    "\n",
    "df_db_stations = pd.DataFrame(stations_list)"
   ]
  },
  {
   "cell_type": "code",
   "execution_count": 7,
   "metadata": {},
   "outputs": [],
   "source": [
    "# Erst auf Baden-Württemberg beschränken\n",
    "df_db_stations_bw = df_db_stations[df_db_stations[\"state\"] == \"Baden-Württemberg\"]"
   ]
  },
  {
   "cell_type": "code",
   "execution_count": 8,
   "metadata": {},
   "outputs": [],
   "source": [
    "# Nur nur die S-Bahn Haltestellen im VVS-Gebiet auswählen\n",
    "s_bahn_stopps = ['Stuttgart Nürnberger Straße', 'Leinfelden', 'Höfingen', 'Stuttgart-Sommerrain', 'Malmsheim', 'Rutesheim', 'Weil der Stadt',\n",
    "                 'Bietigheim-Bissingen', 'Kornwestheim Pbf', 'Neuwirtshaus (Porscheplatz)', 'Benningen (Neckar)', 'Freiberg (Neckar)',\n",
    "                 'Nellmersbach', 'Neustadt-Hohenacker', 'Schwaikheim', 'Stetten-Beinstein', 'Geradstetten', 'Grunbach',\n",
    "                 'Weiler (Rems)', 'Winterbach (b Schorndorf)', 'Altbach', 'Esslingen-Mettingen', 'Oberesslingen', 'Esslingen-Zell', 'Filderstadt', 'Stuttgart Flughafen/Messe',\n",
    "                 'Oberaichen', 'Stuttgart-Weilimdorf', 'Renningen Süd', 'Magstadt', 'Maichingen Nord', 'Maichingen', 'Sindelfingen', 'Goldberg', 'Erdmannhausen',\n",
    "                 'Beutelsbach', 'Kirchheim (Teck)', 'Wernau (Neckar)', 'Wendlingen (Neckar)', 'Kirchheim (Teck)-Ötlingen', 'Herrenberg', 'Ehningen (b Böblingen)',\n",
    "                 'Gärtringen', 'Nufringen', 'Stuttgart-Rohr', 'Stuttgart-Vaihingen', 'Stuttgart Universität', 'Stuttgart Österfeld', 'Stuttgart Schwabstraße', 'Stuttgart Stadtmitte', 'Stuttgart Neckarpark',\n",
    "                 'Stuttgart-Untertürkheim Pbf', 'Stuttgart-Obertürkheim', 'Hauptbahnhof (oben)', 'Hauptbahnhof (tief)', 'Stuttgart-Feuerbach', 'Stuttgart Feuersee', 'Stuttgart Nord',\n",
    "                 'Stuttgart-Bad Cannstatt', 'Stuttgart-Zuffenhausen', 'Fellbach', 'Ditzingen', 'Echterdingen', 'Böblingen', 'Hulb', 'Leonberg', 'Renningen',\n",
    "                 'Asperg', 'Ludwigsburg', 'Favoritepark', 'Tamm (Württ)', 'Burgstall (Murr)', 'Kirchberg (Murr)', 'Marbach (Neckar)', 'Backnang', 'Maubach', 'Korntal',\n",
    "                 'Waiblingen', 'Winnenden', 'Rommelshausen', 'Schorndorf', 'Endersbach', 'Esslingen (Neckar)', 'Plochingen', 'Stuttgart Hbf']\n",
    "\n",
    "df_db_stations_bw_vvs = df_db_stations_bw[df_db_stations_bw['name'].isin(s_bahn_stopps)]\n",
    "\n",
    "new_item = {\n",
    "    \"eva_nr\": 8098096,\n",
    "    \"name\": \"Stuttgart Hbf (tief)\",\n",
    "    \"category\": 1,\n",
    "    \"state\": \"Baden-Württemberg\",\n",
    "    \"city\": \"Stuttgart\",\n",
    "    \"zipcode\": \"70173\",\n",
    "    \"street\": \"Arnulf-Klett-Platz 2\",\n",
    "    \"parking\": True,\n",
    "    \"bicycle\": True,\n",
    "    \"taxis\": True,\n",
    "    \"stepless\": \"yes\",\n",
    "    \"car_rental\": True,\n",
    "    \"long\": 9.180228831,\n",
    "    \"lat\": 48.78338649\n",
    "}\n",
    "\n",
    "# Hauptbahnhof (tief) hinzufügen (nicht in der DB API vorhanden) # Es müssen insgesamt 84 Stationen sein\n",
    "df_db_stations_bw_vvs = pd.concat([df_db_stations_bw_vvs, pd.DataFrame(new_item, index=[0])], ignore_index=True)"
   ]
  },
  {
   "cell_type": "code",
   "execution_count": 9,
   "metadata": {},
   "outputs": [],
   "source": [
    "# Spalten Formate anpassen\n",
    "df_db_stations_bw_vvs['city'] = df_db_stations_bw_vvs['city'].replace('Leinfelden - Echterlingen', 'Leinfelden-Echterdingen')\n",
    "df_db_stations_bw_vvs['city'] = df_db_stations_bw_vvs['city'].replace('Leinfelden - Echterdingen', 'Leinfelden-Echterdingen')\n",
    "df_db_stations_bw_vvs['city'] = df_db_stations_bw_vvs['city'].replace('Stuttgart-Feuerbach', 'Feuerbach')\n",
    "df_db_stations_bw_vvs['stepless'] = df_db_stations_bw_vvs['stepless'].replace('yes', 'Yes')\n",
    "df_db_stations_bw_vvs['stepless'] = df_db_stations_bw_vvs['stepless'].replace('partial', 'Partial')"
   ]
  },
  {
   "cell_type": "code",
   "execution_count": 10,
   "metadata": {},
   "outputs": [],
   "source": [
    "df_stationen_s_bahnnetz_stuttgart = pd.merge(df_db_stations_bw_vvs, df_vss_s_bahn, how='left', on=\"name\", suffixes=('_db', '_vvs'))"
   ]
  },
  {
   "cell_type": "code",
   "execution_count": 11,
   "metadata": {},
   "outputs": [],
   "source": [
    "df_stationen_s_bahnnetz_stuttgart = df_stationen_s_bahnnetz_stuttgart.drop(columns=['Name mit Ort', 'Nummer', 'Globale ID', 'GKZ', 'Linien (DIVA)', 'long', 'lat', 'Anzahl Linien'])"
   ]
  },
  {
   "cell_type": "code",
   "execution_count": 12,
   "metadata": {},
   "outputs": [],
   "source": [
    "order = ['eva_nr', 'name', 'state', 'city', 'Gemeinde', 'Teilort', 'Landkreis', 'Tarifzonen', 'zipcode', 'street', 'category', 'parking', 'bicycle', 'taxis', 'stepless', 'car_rental', 'Verkehrsmittel', 'Linien (EFA)', 'Betriebszweige', 'X-Koordinate', 'Y-Koordinate']\n",
    "df_stationen_s_bahnnetz_stuttgart = df_stationen_s_bahnnetz_stuttgart[order]"
   ]
  },
  {
   "cell_type": "code",
   "execution_count": 13,
   "metadata": {},
   "outputs": [],
   "source": [
    "df_stationen_s_bahnnetz_stuttgart.rename(columns={'X-Koordinate': 'long', 'Y-Koordinate': 'lat'}, inplace=True)"
   ]
  },
  {
   "cell_type": "code",
   "execution_count": 14,
   "metadata": {},
   "outputs": [],
   "source": [
    "df_stationen_s_bahnnetz_stuttgart['long'] = df_stationen_s_bahnnetz_stuttgart['long'].str.replace(',', '.').astype(float)\n",
    "df_stationen_s_bahnnetz_stuttgart['lat'] = df_stationen_s_bahnnetz_stuttgart['lat'].str.replace(',', '.').astype(float)"
   ]
  },
  {
   "cell_type": "code",
   "execution_count": 15,
   "metadata": {},
   "outputs": [],
   "source": [
    "df_stationen_s_bahnnetz_stuttgart['city'] = df_stationen_s_bahnnetz_stuttgart['city'].replace('Wernau', 'Wernau (Neckar)')\n",
    "df_stationen_s_bahnnetz_stuttgart['city'] = df_stationen_s_bahnnetz_stuttgart['city'].replace('Tamm ', 'Tamm')\n",
    "df_stationen_s_bahnnetz_stuttgart['city'] = df_stationen_s_bahnnetz_stuttgart['city'].replace('Winterbach ', 'Winterbach')\n",
    "df_stationen_s_bahnnetz_stuttgart['city'] = df_stationen_s_bahnnetz_stuttgart['city'].replace('Ehningen ', 'Ehningen')\n",
    "df_stationen_s_bahnnetz_stuttgart['Teilort'] = df_stationen_s_bahnnetz_stuttgart['Teilort'].replace('Benningen (N)', 'Benningen am Neckar')\n",
    "df_stationen_s_bahnnetz_stuttgart['Teilort'] = df_stationen_s_bahnnetz_stuttgart['Teilort'].replace('Esslingen (N)', 'Esslingen am Neckar')\n",
    "df_stationen_s_bahnnetz_stuttgart['Teilort'] = df_stationen_s_bahnnetz_stuttgart['Teilort'].replace('Freiberg (N)', 'Freiberg am Neckar')\n",
    "df_stationen_s_bahnnetz_stuttgart['Teilort'] = df_stationen_s_bahnnetz_stuttgart['Teilort'].replace('Kirchberg (M)', 'Kirchberg an der Murr')\n",
    "df_stationen_s_bahnnetz_stuttgart['Teilort'] = df_stationen_s_bahnnetz_stuttgart['Teilort'].replace('Kirchheim (T)', 'Kirchheim unter Teck')\n",
    "df_stationen_s_bahnnetz_stuttgart['Teilort'] = df_stationen_s_bahnnetz_stuttgart['Teilort'].replace('Marbach (N)', 'Marbach am Neckar')\n",
    "df_stationen_s_bahnnetz_stuttgart['Teilort'] = df_stationen_s_bahnnetz_stuttgart['Teilort'].replace('Wendlingen (N)', 'Wendlingen am Neckar')\n",
    "df_stationen_s_bahnnetz_stuttgart['Teilort'] = df_stationen_s_bahnnetz_stuttgart['Teilort'].replace('Wernau (N)', 'Wernau (Neckar)')"
   ]
  },
  {
   "cell_type": "code",
   "execution_count": 16,
   "metadata": {},
   "outputs": [],
   "source": [
    "\n",
    "df_stationen_s_bahnnetz_stuttgart['Tarifzonen'] = df_stationen_s_bahnnetz_stuttgart['Tarifzonen'].str.replace(',', ';').str.replace('\"', '')\n",
    "df_stationen_s_bahnnetz_stuttgart['Linien (EFA)'] = df_stationen_s_bahnnetz_stuttgart['Linien (EFA)'].str.replace(',', ';').str.replace('\"', '')\n",
    "df_stationen_s_bahnnetz_stuttgart['Betriebszweige'] = df_stationen_s_bahnnetz_stuttgart['Betriebszweige'].str.replace(',', ';').str.replace('\"', '')"
   ]
  },
  {
   "cell_type": "code",
   "execution_count": 17,
   "metadata": {},
   "outputs": [],
   "source": [
    "columns_order = ['eva_nr', 'name', 'state', 'city', 'Gemeinde', 'Teilort', 'Landkreis', \n",
    "                 'zipcode', 'street', 'long', 'lat', 'Verkehrsmittel', 'Linien (EFA)', \n",
    "                 'Betriebszweige', 'Tarifzonen', 'category', 'parking', \n",
    "                 'bicycle', 'taxis', 'stepless', 'car_rental']\n",
    "\n",
    "# DataFrame in dieser Reihenfolge neu anordnen\n",
    "df_stationen_s_bahnnetz_stuttgart = df_stationen_s_bahnnetz_stuttgart[columns_order]"
   ]
  },
  {
   "cell_type": "code",
   "execution_count": 18,
   "metadata": {},
   "outputs": [],
   "source": [
    "df_stationen_s_bahnnetz_stuttgart.to_csv(\"../../01_data/01_raw/Stationen_S-Bahnnetz_Stuttgart.csv\", index=False)"
   ]
  }
 ],
 "metadata": {
  "kernelspec": {
   "display_name": "network-analysis-2HgqSjg4-py3.11",
   "language": "python",
   "name": "python3"
  },
  "language_info": {
   "codemirror_mode": {
    "name": "ipython",
    "version": 3
   },
   "file_extension": ".py",
   "mimetype": "text/x-python",
   "name": "python",
   "nbconvert_exporter": "python",
   "pygments_lexer": "ipython3",
   "version": "3.11.5"
  }
 },
 "nbformat": 4,
 "nbformat_minor": 2
}
